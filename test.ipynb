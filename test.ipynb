{
  "nbformat": 4,
  "nbformat_minor": 0,
  "metadata": {
    "colab": {
      "provenance": [],
      "authorship_tag": "ABX9TyNemmxBYCfj35cT4jej6GnJ",
      "include_colab_link": true
    },
    "kernelspec": {
      "name": "python3",
      "display_name": "Python 3"
    },
    "language_info": {
      "name": "python"
    }
  },
  "cells": [
    {
      "cell_type": "markdown",
      "metadata": {
        "id": "view-in-github",
        "colab_type": "text"
      },
      "source": [
        "<a href=\"https://colab.research.google.com/github/lahariSane/Human-Activity-Recognizer/blob/main/test.ipynb\" target=\"_parent\"><img src=\"https://colab.research.google.com/assets/colab-badge.svg\" alt=\"Open In Colab\"/></a>"
      ]
    },
    {
      "cell_type": "code",
      "execution_count": 1,
      "metadata": {
        "colab": {
          "base_uri": "https://localhost:8080/"
        },
        "id": "YniU4lwCbGJv",
        "outputId": "b48c2b7c-bbb0-4647-abb7-e7b30d839042"
      },
      "outputs": [
        {
          "output_type": "stream",
          "name": "stdout",
          "text": [
            "Mounted at /gdrive\n"
          ]
        }
      ],
      "source": [
        "from google.colab import drive\n",
        "import pandas as pd\n",
        "drive.mount('/gdrive')"
      ]
    },
    {
      "cell_type": "code",
      "source": [
        "%cd /gdrive"
      ],
      "metadata": {
        "colab": {
          "base_uri": "https://localhost:8080/"
        },
        "id": "dXCqQ04YbTSI",
        "outputId": "b9711eac-0587-4d35-82cf-3074c8201a97"
      },
      "execution_count": 2,
      "outputs": [
        {
          "output_type": "stream",
          "name": "stdout",
          "text": [
            "/gdrive\n"
          ]
        }
      ]
    },
    {
      "cell_type": "code",
      "source": [
        "test = pd.read_csv('/gdrive/My Drive/Colab Notebooks/Human activity recognition/test.csv')\n",
        "test.sample(5)"
      ],
      "metadata": {
        "colab": {
          "base_uri": "https://localhost:8080/",
          "height": 273
        },
        "id": "oM0Wo9xjbwnb",
        "outputId": "4bf5624c-c000-4972-9bd9-feec1106c0a7"
      },
      "execution_count": 3,
      "outputs": [
        {
          "output_type": "execute_result",
          "data": {
            "text/plain": [
              "      tBodyAcc-mean()-X  tBodyAcc-mean()-Y  tBodyAcc-mean()-Z  \\\n",
              "576            0.218991          -0.029466          -0.091103   \n",
              "1496           0.233013           0.002288          -0.074162   \n",
              "2137           0.330303          -0.042161          -0.092232   \n",
              "1999           0.327945           0.021193          -0.044845   \n",
              "2767           0.280683          -0.011279          -0.100404   \n",
              "\n",
              "      tBodyAcc-std()-X  tBodyAcc-std()-Y  tBodyAcc-std()-Z  tBodyAcc-mad()-X  \\\n",
              "576           0.003982          0.016997         -0.464465         -0.043381   \n",
              "1496         -0.150676         -0.184824         -0.403926         -0.250567   \n",
              "2137         -0.380228         -0.299041         -0.324011         -0.407035   \n",
              "1999         -0.313930         -0.377606         -0.479782         -0.359966   \n",
              "2767         -0.994244         -0.924108         -0.986519         -0.995254   \n",
              "\n",
              "      tBodyAcc-mad()-Y  tBodyAcc-mad()-Z  tBodyAcc-max()-X  ...  \\\n",
              "576          -0.121232         -0.467964          0.336791  ...   \n",
              "1496         -0.172667         -0.385609          0.259355  ...   \n",
              "2137         -0.289453         -0.333775         -0.113594  ...   \n",
              "1999         -0.406631         -0.452263          0.141942  ...   \n",
              "2767         -0.915269         -0.986791         -0.936511  ...   \n",
              "\n",
              "      fBodyBodyGyroJerkMag-kurtosis()  angle(tBodyAccMean,gravity)  \\\n",
              "576                         -0.389227                     0.558910   \n",
              "1496                        -0.882580                     0.474991   \n",
              "2137                        -0.936283                    -0.479067   \n",
              "1999                        -0.275956                    -0.171464   \n",
              "2767                        -0.848903                     0.005363   \n",
              "\n",
              "      angle(tBodyAccJerkMean),gravityMean)  angle(tBodyGyroMean,gravityMean)  \\\n",
              "576                               0.391538                          0.910665   \n",
              "1496                             -0.765596                          0.953626   \n",
              "2137                             -0.174391                          0.661789   \n",
              "1999                             -0.269850                          0.923802   \n",
              "2767                              0.035787                         -0.547092   \n",
              "\n",
              "      angle(tBodyGyroJerkMean,gravityMean)  angle(X,gravityMean)  \\\n",
              "576                              -0.910752             -0.876530   \n",
              "1496                             -0.328027             -0.748062   \n",
              "2137                             -0.086233             -0.669018   \n",
              "1999                             -0.729359             -0.789362   \n",
              "2767                              0.228590             -0.828848   \n",
              "\n",
              "      angle(Y,gravityMean)  angle(Z,gravityMean)  subject            Activity  \n",
              "576               0.098803             -0.072846        4  WALKING_DOWNSTAIRS  \n",
              "1496              0.269802              0.047522       12    WALKING_UPSTAIRS  \n",
              "2137              0.264855              0.178048       18             WALKING  \n",
              "1999              0.226997             -0.052255       18  WALKING_DOWNSTAIRS  \n",
              "2767              0.211949              0.051452       24            STANDING  \n",
              "\n",
              "[5 rows x 563 columns]"
            ],
            "text/html": [
              "\n",
              "  <div id=\"df-ff677fbc-1f15-48cf-a776-ebd57a2fde0d\" class=\"colab-df-container\">\n",
              "    <div>\n",
              "<style scoped>\n",
              "    .dataframe tbody tr th:only-of-type {\n",
              "        vertical-align: middle;\n",
              "    }\n",
              "\n",
              "    .dataframe tbody tr th {\n",
              "        vertical-align: top;\n",
              "    }\n",
              "\n",
              "    .dataframe thead th {\n",
              "        text-align: right;\n",
              "    }\n",
              "</style>\n",
              "<table border=\"1\" class=\"dataframe\">\n",
              "  <thead>\n",
              "    <tr style=\"text-align: right;\">\n",
              "      <th></th>\n",
              "      <th>tBodyAcc-mean()-X</th>\n",
              "      <th>tBodyAcc-mean()-Y</th>\n",
              "      <th>tBodyAcc-mean()-Z</th>\n",
              "      <th>tBodyAcc-std()-X</th>\n",
              "      <th>tBodyAcc-std()-Y</th>\n",
              "      <th>tBodyAcc-std()-Z</th>\n",
              "      <th>tBodyAcc-mad()-X</th>\n",
              "      <th>tBodyAcc-mad()-Y</th>\n",
              "      <th>tBodyAcc-mad()-Z</th>\n",
              "      <th>tBodyAcc-max()-X</th>\n",
              "      <th>...</th>\n",
              "      <th>fBodyBodyGyroJerkMag-kurtosis()</th>\n",
              "      <th>angle(tBodyAccMean,gravity)</th>\n",
              "      <th>angle(tBodyAccJerkMean),gravityMean)</th>\n",
              "      <th>angle(tBodyGyroMean,gravityMean)</th>\n",
              "      <th>angle(tBodyGyroJerkMean,gravityMean)</th>\n",
              "      <th>angle(X,gravityMean)</th>\n",
              "      <th>angle(Y,gravityMean)</th>\n",
              "      <th>angle(Z,gravityMean)</th>\n",
              "      <th>subject</th>\n",
              "      <th>Activity</th>\n",
              "    </tr>\n",
              "  </thead>\n",
              "  <tbody>\n",
              "    <tr>\n",
              "      <th>576</th>\n",
              "      <td>0.218991</td>\n",
              "      <td>-0.029466</td>\n",
              "      <td>-0.091103</td>\n",
              "      <td>0.003982</td>\n",
              "      <td>0.016997</td>\n",
              "      <td>-0.464465</td>\n",
              "      <td>-0.043381</td>\n",
              "      <td>-0.121232</td>\n",
              "      <td>-0.467964</td>\n",
              "      <td>0.336791</td>\n",
              "      <td>...</td>\n",
              "      <td>-0.389227</td>\n",
              "      <td>0.558910</td>\n",
              "      <td>0.391538</td>\n",
              "      <td>0.910665</td>\n",
              "      <td>-0.910752</td>\n",
              "      <td>-0.876530</td>\n",
              "      <td>0.098803</td>\n",
              "      <td>-0.072846</td>\n",
              "      <td>4</td>\n",
              "      <td>WALKING_DOWNSTAIRS</td>\n",
              "    </tr>\n",
              "    <tr>\n",
              "      <th>1496</th>\n",
              "      <td>0.233013</td>\n",
              "      <td>0.002288</td>\n",
              "      <td>-0.074162</td>\n",
              "      <td>-0.150676</td>\n",
              "      <td>-0.184824</td>\n",
              "      <td>-0.403926</td>\n",
              "      <td>-0.250567</td>\n",
              "      <td>-0.172667</td>\n",
              "      <td>-0.385609</td>\n",
              "      <td>0.259355</td>\n",
              "      <td>...</td>\n",
              "      <td>-0.882580</td>\n",
              "      <td>0.474991</td>\n",
              "      <td>-0.765596</td>\n",
              "      <td>0.953626</td>\n",
              "      <td>-0.328027</td>\n",
              "      <td>-0.748062</td>\n",
              "      <td>0.269802</td>\n",
              "      <td>0.047522</td>\n",
              "      <td>12</td>\n",
              "      <td>WALKING_UPSTAIRS</td>\n",
              "    </tr>\n",
              "    <tr>\n",
              "      <th>2137</th>\n",
              "      <td>0.330303</td>\n",
              "      <td>-0.042161</td>\n",
              "      <td>-0.092232</td>\n",
              "      <td>-0.380228</td>\n",
              "      <td>-0.299041</td>\n",
              "      <td>-0.324011</td>\n",
              "      <td>-0.407035</td>\n",
              "      <td>-0.289453</td>\n",
              "      <td>-0.333775</td>\n",
              "      <td>-0.113594</td>\n",
              "      <td>...</td>\n",
              "      <td>-0.936283</td>\n",
              "      <td>-0.479067</td>\n",
              "      <td>-0.174391</td>\n",
              "      <td>0.661789</td>\n",
              "      <td>-0.086233</td>\n",
              "      <td>-0.669018</td>\n",
              "      <td>0.264855</td>\n",
              "      <td>0.178048</td>\n",
              "      <td>18</td>\n",
              "      <td>WALKING</td>\n",
              "    </tr>\n",
              "    <tr>\n",
              "      <th>1999</th>\n",
              "      <td>0.327945</td>\n",
              "      <td>0.021193</td>\n",
              "      <td>-0.044845</td>\n",
              "      <td>-0.313930</td>\n",
              "      <td>-0.377606</td>\n",
              "      <td>-0.479782</td>\n",
              "      <td>-0.359966</td>\n",
              "      <td>-0.406631</td>\n",
              "      <td>-0.452263</td>\n",
              "      <td>0.141942</td>\n",
              "      <td>...</td>\n",
              "      <td>-0.275956</td>\n",
              "      <td>-0.171464</td>\n",
              "      <td>-0.269850</td>\n",
              "      <td>0.923802</td>\n",
              "      <td>-0.729359</td>\n",
              "      <td>-0.789362</td>\n",
              "      <td>0.226997</td>\n",
              "      <td>-0.052255</td>\n",
              "      <td>18</td>\n",
              "      <td>WALKING_DOWNSTAIRS</td>\n",
              "    </tr>\n",
              "    <tr>\n",
              "      <th>2767</th>\n",
              "      <td>0.280683</td>\n",
              "      <td>-0.011279</td>\n",
              "      <td>-0.100404</td>\n",
              "      <td>-0.994244</td>\n",
              "      <td>-0.924108</td>\n",
              "      <td>-0.986519</td>\n",
              "      <td>-0.995254</td>\n",
              "      <td>-0.915269</td>\n",
              "      <td>-0.986791</td>\n",
              "      <td>-0.936511</td>\n",
              "      <td>...</td>\n",
              "      <td>-0.848903</td>\n",
              "      <td>0.005363</td>\n",
              "      <td>0.035787</td>\n",
              "      <td>-0.547092</td>\n",
              "      <td>0.228590</td>\n",
              "      <td>-0.828848</td>\n",
              "      <td>0.211949</td>\n",
              "      <td>0.051452</td>\n",
              "      <td>24</td>\n",
              "      <td>STANDING</td>\n",
              "    </tr>\n",
              "  </tbody>\n",
              "</table>\n",
              "<p>5 rows × 563 columns</p>\n",
              "</div>\n",
              "    <div class=\"colab-df-buttons\">\n",
              "\n",
              "  <div class=\"colab-df-container\">\n",
              "    <button class=\"colab-df-convert\" onclick=\"convertToInteractive('df-ff677fbc-1f15-48cf-a776-ebd57a2fde0d')\"\n",
              "            title=\"Convert this dataframe to an interactive table.\"\n",
              "            style=\"display:none;\">\n",
              "\n",
              "  <svg xmlns=\"http://www.w3.org/2000/svg\" height=\"24px\" viewBox=\"0 -960 960 960\">\n",
              "    <path d=\"M120-120v-720h720v720H120Zm60-500h600v-160H180v160Zm220 220h160v-160H400v160Zm0 220h160v-160H400v160ZM180-400h160v-160H180v160Zm440 0h160v-160H620v160ZM180-180h160v-160H180v160Zm440 0h160v-160H620v160Z\"/>\n",
              "  </svg>\n",
              "    </button>\n",
              "\n",
              "  <style>\n",
              "    .colab-df-container {\n",
              "      display:flex;\n",
              "      gap: 12px;\n",
              "    }\n",
              "\n",
              "    .colab-df-convert {\n",
              "      background-color: #E8F0FE;\n",
              "      border: none;\n",
              "      border-radius: 50%;\n",
              "      cursor: pointer;\n",
              "      display: none;\n",
              "      fill: #1967D2;\n",
              "      height: 32px;\n",
              "      padding: 0 0 0 0;\n",
              "      width: 32px;\n",
              "    }\n",
              "\n",
              "    .colab-df-convert:hover {\n",
              "      background-color: #E2EBFA;\n",
              "      box-shadow: 0px 1px 2px rgba(60, 64, 67, 0.3), 0px 1px 3px 1px rgba(60, 64, 67, 0.15);\n",
              "      fill: #174EA6;\n",
              "    }\n",
              "\n",
              "    .colab-df-buttons div {\n",
              "      margin-bottom: 4px;\n",
              "    }\n",
              "\n",
              "    [theme=dark] .colab-df-convert {\n",
              "      background-color: #3B4455;\n",
              "      fill: #D2E3FC;\n",
              "    }\n",
              "\n",
              "    [theme=dark] .colab-df-convert:hover {\n",
              "      background-color: #434B5C;\n",
              "      box-shadow: 0px 1px 3px 1px rgba(0, 0, 0, 0.15);\n",
              "      filter: drop-shadow(0px 1px 2px rgba(0, 0, 0, 0.3));\n",
              "      fill: #FFFFFF;\n",
              "    }\n",
              "  </style>\n",
              "\n",
              "    <script>\n",
              "      const buttonEl =\n",
              "        document.querySelector('#df-ff677fbc-1f15-48cf-a776-ebd57a2fde0d button.colab-df-convert');\n",
              "      buttonEl.style.display =\n",
              "        google.colab.kernel.accessAllowed ? 'block' : 'none';\n",
              "\n",
              "      async function convertToInteractive(key) {\n",
              "        const element = document.querySelector('#df-ff677fbc-1f15-48cf-a776-ebd57a2fde0d');\n",
              "        const dataTable =\n",
              "          await google.colab.kernel.invokeFunction('convertToInteractive',\n",
              "                                                    [key], {});\n",
              "        if (!dataTable) return;\n",
              "\n",
              "        const docLinkHtml = 'Like what you see? Visit the ' +\n",
              "          '<a target=\"_blank\" href=https://colab.research.google.com/notebooks/data_table.ipynb>data table notebook</a>'\n",
              "          + ' to learn more about interactive tables.';\n",
              "        element.innerHTML = '';\n",
              "        dataTable['output_type'] = 'display_data';\n",
              "        await google.colab.output.renderOutput(dataTable, element);\n",
              "        const docLink = document.createElement('div');\n",
              "        docLink.innerHTML = docLinkHtml;\n",
              "        element.appendChild(docLink);\n",
              "      }\n",
              "    </script>\n",
              "  </div>\n",
              "\n",
              "\n",
              "<div id=\"df-4db72f9a-6b87-4dd0-a5c9-1011f6ccca5b\">\n",
              "  <button class=\"colab-df-quickchart\" onclick=\"quickchart('df-4db72f9a-6b87-4dd0-a5c9-1011f6ccca5b')\"\n",
              "            title=\"Suggest charts\"\n",
              "            style=\"display:none;\">\n",
              "\n",
              "<svg xmlns=\"http://www.w3.org/2000/svg\" height=\"24px\"viewBox=\"0 0 24 24\"\n",
              "     width=\"24px\">\n",
              "    <g>\n",
              "        <path d=\"M19 3H5c-1.1 0-2 .9-2 2v14c0 1.1.9 2 2 2h14c1.1 0 2-.9 2-2V5c0-1.1-.9-2-2-2zM9 17H7v-7h2v7zm4 0h-2V7h2v10zm4 0h-2v-4h2v4z\"/>\n",
              "    </g>\n",
              "</svg>\n",
              "  </button>\n",
              "\n",
              "<style>\n",
              "  .colab-df-quickchart {\n",
              "      --bg-color: #E8F0FE;\n",
              "      --fill-color: #1967D2;\n",
              "      --hover-bg-color: #E2EBFA;\n",
              "      --hover-fill-color: #174EA6;\n",
              "      --disabled-fill-color: #AAA;\n",
              "      --disabled-bg-color: #DDD;\n",
              "  }\n",
              "\n",
              "  [theme=dark] .colab-df-quickchart {\n",
              "      --bg-color: #3B4455;\n",
              "      --fill-color: #D2E3FC;\n",
              "      --hover-bg-color: #434B5C;\n",
              "      --hover-fill-color: #FFFFFF;\n",
              "      --disabled-bg-color: #3B4455;\n",
              "      --disabled-fill-color: #666;\n",
              "  }\n",
              "\n",
              "  .colab-df-quickchart {\n",
              "    background-color: var(--bg-color);\n",
              "    border: none;\n",
              "    border-radius: 50%;\n",
              "    cursor: pointer;\n",
              "    display: none;\n",
              "    fill: var(--fill-color);\n",
              "    height: 32px;\n",
              "    padding: 0;\n",
              "    width: 32px;\n",
              "  }\n",
              "\n",
              "  .colab-df-quickchart:hover {\n",
              "    background-color: var(--hover-bg-color);\n",
              "    box-shadow: 0 1px 2px rgba(60, 64, 67, 0.3), 0 1px 3px 1px rgba(60, 64, 67, 0.15);\n",
              "    fill: var(--button-hover-fill-color);\n",
              "  }\n",
              "\n",
              "  .colab-df-quickchart-complete:disabled,\n",
              "  .colab-df-quickchart-complete:disabled:hover {\n",
              "    background-color: var(--disabled-bg-color);\n",
              "    fill: var(--disabled-fill-color);\n",
              "    box-shadow: none;\n",
              "  }\n",
              "\n",
              "  .colab-df-spinner {\n",
              "    border: 2px solid var(--fill-color);\n",
              "    border-color: transparent;\n",
              "    border-bottom-color: var(--fill-color);\n",
              "    animation:\n",
              "      spin 1s steps(1) infinite;\n",
              "  }\n",
              "\n",
              "  @keyframes spin {\n",
              "    0% {\n",
              "      border-color: transparent;\n",
              "      border-bottom-color: var(--fill-color);\n",
              "      border-left-color: var(--fill-color);\n",
              "    }\n",
              "    20% {\n",
              "      border-color: transparent;\n",
              "      border-left-color: var(--fill-color);\n",
              "      border-top-color: var(--fill-color);\n",
              "    }\n",
              "    30% {\n",
              "      border-color: transparent;\n",
              "      border-left-color: var(--fill-color);\n",
              "      border-top-color: var(--fill-color);\n",
              "      border-right-color: var(--fill-color);\n",
              "    }\n",
              "    40% {\n",
              "      border-color: transparent;\n",
              "      border-right-color: var(--fill-color);\n",
              "      border-top-color: var(--fill-color);\n",
              "    }\n",
              "    60% {\n",
              "      border-color: transparent;\n",
              "      border-right-color: var(--fill-color);\n",
              "    }\n",
              "    80% {\n",
              "      border-color: transparent;\n",
              "      border-right-color: var(--fill-color);\n",
              "      border-bottom-color: var(--fill-color);\n",
              "    }\n",
              "    90% {\n",
              "      border-color: transparent;\n",
              "      border-bottom-color: var(--fill-color);\n",
              "    }\n",
              "  }\n",
              "</style>\n",
              "\n",
              "  <script>\n",
              "    async function quickchart(key) {\n",
              "      const quickchartButtonEl =\n",
              "        document.querySelector('#' + key + ' button');\n",
              "      quickchartButtonEl.disabled = true;  // To prevent multiple clicks.\n",
              "      quickchartButtonEl.classList.add('colab-df-spinner');\n",
              "      try {\n",
              "        const charts = await google.colab.kernel.invokeFunction(\n",
              "            'suggestCharts', [key], {});\n",
              "      } catch (error) {\n",
              "        console.error('Error during call to suggestCharts:', error);\n",
              "      }\n",
              "      quickchartButtonEl.classList.remove('colab-df-spinner');\n",
              "      quickchartButtonEl.classList.add('colab-df-quickchart-complete');\n",
              "    }\n",
              "    (() => {\n",
              "      let quickchartButtonEl =\n",
              "        document.querySelector('#df-4db72f9a-6b87-4dd0-a5c9-1011f6ccca5b button');\n",
              "      quickchartButtonEl.style.display =\n",
              "        google.colab.kernel.accessAllowed ? 'block' : 'none';\n",
              "    })();\n",
              "  </script>\n",
              "</div>\n",
              "\n",
              "    </div>\n",
              "  </div>\n"
            ],
            "application/vnd.google.colaboratory.intrinsic+json": {
              "type": "dataframe"
            }
          },
          "metadata": {},
          "execution_count": 3
        }
      ]
    },
    {
      "cell_type": "code",
      "source": [
        "X = test.drop('Activity', axis=1)\n",
        "Y = test['Activity']"
      ],
      "metadata": {
        "id": "wgzeBaq9c-qF"
      },
      "execution_count": 4,
      "outputs": []
    },
    {
      "cell_type": "code",
      "source": [
        "%pip install nbimporter"
      ],
      "metadata": {
        "id": "rvqr87kl1TJ_",
        "outputId": "a9b2f446-d32f-43aa-d05b-bf5bdbe38e1d",
        "colab": {
          "base_uri": "https://localhost:8080/"
        }
      },
      "execution_count": 17,
      "outputs": [
        {
          "output_type": "stream",
          "name": "stdout",
          "text": [
            "Requirement already satisfied: nbimporter in /usr/local/lib/python3.10/dist-packages (0.3.4)\n"
          ]
        }
      ]
    },
    {
      "cell_type": "code",
      "source": [
        "import nbimporter\n",
        "import sys\n",
        "sys.path.append('/gdrive/My Drive/Colab Notebooks/Human activity recognition/')"
      ],
      "metadata": {
        "id": "3gsEtnkr1Qvb"
      },
      "execution_count": 18,
      "outputs": []
    },
    {
      "cell_type": "code",
      "source": [
        "import utils"
      ],
      "metadata": {
        "id": "_nOdBhiOtPmr"
      },
      "execution_count": 19,
      "outputs": []
    },
    {
      "cell_type": "code",
      "source": [
        "from utils import RemoveDuplicateColumns"
      ],
      "metadata": {
        "id": "cNUwzK_Bx72O"
      },
      "execution_count": 26,
      "outputs": []
    },
    {
      "cell_type": "code",
      "source": [
        "removeDuplicateColumns = RemoveDuplicateColumns()"
      ],
      "metadata": {
        "id": "hj4mLk8pRNy5"
      },
      "execution_count": 28,
      "outputs": []
    },
    {
      "cell_type": "code",
      "source": [
        "test = removeDuplicateColumns.fit_transform(X)"
      ],
      "metadata": {
        "id": "4oOIz4j_TKXN"
      },
      "execution_count": 31,
      "outputs": []
    },
    {
      "cell_type": "code",
      "source": [
        "test.shape"
      ],
      "metadata": {
        "colab": {
          "base_uri": "https://localhost:8080/"
        },
        "id": "VWbLOiKjRasr",
        "outputId": "ab939b65-b9ac-4fe9-a81c-ebebd5e7c5d2"
      },
      "execution_count": 32,
      "outputs": [
        {
          "output_type": "execute_result",
          "data": {
            "text/plain": [
              "(2947, 541)"
            ]
          },
          "metadata": {},
          "execution_count": 32
        }
      ]
    },
    {
      "cell_type": "code",
      "source": [
        "import joblib"
      ],
      "metadata": {
        "id": "XRbfzI9zW37C"
      },
      "execution_count": 34,
      "outputs": []
    },
    {
      "cell_type": "code",
      "source": [
        "filePath = r'/gdrive/My Drive/Colab Notebooks/Human activity recognition/pipeline.pkl'\n",
        "loaded_model = joblib.load(filePath)"
      ],
      "metadata": {
        "id": "FSx7JKGIbdMV"
      },
      "execution_count": 35,
      "outputs": []
    },
    {
      "cell_type": "code",
      "source": [
        "predicted = loaded_model.predict(X)"
      ],
      "metadata": {
        "id": "QCmcqpxlbhnS"
      },
      "execution_count": 36,
      "outputs": []
    },
    {
      "cell_type": "code",
      "source": [
        "predicted"
      ],
      "metadata": {
        "id": "sdQDvVtOb32e",
        "colab": {
          "base_uri": "https://localhost:8080/"
        },
        "outputId": "037a60dd-27be-43b2-e547-32f84eba1fdd"
      },
      "execution_count": 37,
      "outputs": [
        {
          "output_type": "execute_result",
          "data": {
            "text/plain": [
              "array(['STANDING', 'STANDING', 'STANDING', ..., 'WALKING_UPSTAIRS',\n",
              "       'WALKING_UPSTAIRS', 'WALKING_UPSTAIRS'], dtype=object)"
            ]
          },
          "metadata": {},
          "execution_count": 37
        }
      ]
    },
    {
      "cell_type": "code",
      "source": [],
      "metadata": {
        "id": "ZiZCmGIiW8_L"
      },
      "execution_count": null,
      "outputs": []
    }
  ]
}